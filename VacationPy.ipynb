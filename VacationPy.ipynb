{
 "cells": [
  {
   "cell_type": "code",
   "execution_count": 5,
   "metadata": {},
   "outputs": [],
   "source": [
    "# Import the dependencies.\n",
    "import pandas as pd\n",
    "import gmaps\n",
    "import requests\n",
    "# Import the API key.\n",
    "from config import g_key"
   ]
  },
  {
   "cell_type": "code",
   "execution_count": 6,
   "metadata": {},
   "outputs": [
    {
     "output_type": "execute_result",
     "data": {
      "text/plain": [
       "   City_ID          City Country                 Date      Lat       Lng  \\\n",
       "0        0       Trapani      IT  2021-04-12 14:42:11  37.8333   12.6667   \n",
       "1        1        Barrow      US  2021-04-12 14:41:35  71.2906 -156.7887   \n",
       "2        2  Rio Gallegos      AR  2021-04-12 14:41:40 -51.6226  -69.2181   \n",
       "3        3          Bria      CF  2021-04-12 14:45:06   6.5423   21.9863   \n",
       "4        4          Tera      NE  2021-04-12 14:45:06  14.0078    0.7531   \n",
       "\n",
       "   Max Temp  Humidity  Cloudiness  Wind Speed  \n",
       "0     68.00        60           0       16.11  \n",
       "1    -18.40        69           1        6.91  \n",
       "2     48.20        57           0       16.11  \n",
       "3     81.18        59         100        5.08  \n",
       "4    108.03         3           0       14.00  "
      ],
      "text/html": "<div>\n<style scoped>\n    .dataframe tbody tr th:only-of-type {\n        vertical-align: middle;\n    }\n\n    .dataframe tbody tr th {\n        vertical-align: top;\n    }\n\n    .dataframe thead th {\n        text-align: right;\n    }\n</style>\n<table border=\"1\" class=\"dataframe\">\n  <thead>\n    <tr style=\"text-align: right;\">\n      <th></th>\n      <th>City_ID</th>\n      <th>City</th>\n      <th>Country</th>\n      <th>Date</th>\n      <th>Lat</th>\n      <th>Lng</th>\n      <th>Max Temp</th>\n      <th>Humidity</th>\n      <th>Cloudiness</th>\n      <th>Wind Speed</th>\n    </tr>\n  </thead>\n  <tbody>\n    <tr>\n      <th>0</th>\n      <td>0</td>\n      <td>Trapani</td>\n      <td>IT</td>\n      <td>2021-04-12 14:42:11</td>\n      <td>37.8333</td>\n      <td>12.6667</td>\n      <td>68.00</td>\n      <td>60</td>\n      <td>0</td>\n      <td>16.11</td>\n    </tr>\n    <tr>\n      <th>1</th>\n      <td>1</td>\n      <td>Barrow</td>\n      <td>US</td>\n      <td>2021-04-12 14:41:35</td>\n      <td>71.2906</td>\n      <td>-156.7887</td>\n      <td>-18.40</td>\n      <td>69</td>\n      <td>1</td>\n      <td>6.91</td>\n    </tr>\n    <tr>\n      <th>2</th>\n      <td>2</td>\n      <td>Rio Gallegos</td>\n      <td>AR</td>\n      <td>2021-04-12 14:41:40</td>\n      <td>-51.6226</td>\n      <td>-69.2181</td>\n      <td>48.20</td>\n      <td>57</td>\n      <td>0</td>\n      <td>16.11</td>\n    </tr>\n    <tr>\n      <th>3</th>\n      <td>3</td>\n      <td>Bria</td>\n      <td>CF</td>\n      <td>2021-04-12 14:45:06</td>\n      <td>6.5423</td>\n      <td>21.9863</td>\n      <td>81.18</td>\n      <td>59</td>\n      <td>100</td>\n      <td>5.08</td>\n    </tr>\n    <tr>\n      <th>4</th>\n      <td>4</td>\n      <td>Tera</td>\n      <td>NE</td>\n      <td>2021-04-12 14:45:06</td>\n      <td>14.0078</td>\n      <td>0.7531</td>\n      <td>108.03</td>\n      <td>3</td>\n      <td>0</td>\n      <td>14.00</td>\n    </tr>\n  </tbody>\n</table>\n</div>"
     },
     "metadata": {},
     "execution_count": 6
    }
   ],
   "source": [
    "city_data_df = pd.read_csv(\"weather_data/cities.csv\")\n",
    "city_data_df.head()"
   ]
  },
  {
   "cell_type": "code",
   "execution_count": 7,
   "metadata": {},
   "outputs": [],
   "source": [
    "# Configure gmaps to use your Google API key.\n",
    "gmaps.configure(api_key=g_key)\n"
   ]
  },
  {
   "cell_type": "code",
   "execution_count": 8,
   "metadata": {},
   "outputs": [],
   "source": [
    "# Get the maximum temperature.\n",
    "max_temp = city_data_df[\"Max Temp\"]\n",
    "temps = []\n",
    "for temp in max_temp:\n",
    "    temps.append(max(temp, 0))"
   ]
  },
  {
   "cell_type": "code",
   "execution_count": 9,
   "metadata": {},
   "outputs": [
    {
     "output_type": "display_data",
     "data": {
      "text/plain": "Figure(layout=FigureLayout(height='420px'))",
      "application/vnd.jupyter.widget-view+json": {
       "version_major": 2,
       "version_minor": 0,
       "model_id": "9a66c0a372a545f78e866f24ad67d648"
      }
     },
     "metadata": {}
    }
   ],
   "source": [
    "# Heatmap of temperature\n",
    "# Get the latitude and longitude.\n",
    "locations = city_data_df[[\"Lat\", \"Lng\"]]\n",
    "# Get the maximum temperature.\n",
    "max_temp = city_data_df[\"Max Temp\"]\n",
    "# Assign the figure variable.\n",
    "fig = gmaps.figure(center=(30.0, 31.0), zoom_level=1.5)\n",
    "# Assign the heatmap variable.\n",
    "heat_layer = gmaps.heatmap_layer(locations, weights=temps, dissipating=False, max_intensity=300, point_radius=4)\n",
    "# Add the heatmap layer.\n",
    "fig.add_layer(heat_layer)\n",
    "# Call the figure to plot the data.\n",
    "fig"
   ]
  },
  {
   "cell_type": "code",
   "execution_count": 10,
   "metadata": {
    "scrolled": true
   },
   "outputs": [
    {
     "output_type": "display_data",
     "data": {
      "text/plain": "Figure(layout=FigureLayout(height='420px'))",
      "application/vnd.jupyter.widget-view+json": {
       "version_major": 2,
       "version_minor": 0,
       "model_id": "fa1fdccacefa4026b9629acb312a299a"
      }
     },
     "metadata": {}
    }
   ],
   "source": [
    "# Heatmap of percent humidity\n",
    "locations = city_data_df[[\"Lat\", \"Lng\"]]\n",
    "humidity = city_data_df[\"Humidity\"]\n",
    "fig = gmaps.figure(center=(30.0, 31.0), zoom_level=1.5)\n",
    "heat_layer = gmaps.heatmap_layer(locations, weights=humidity, dissipating=False, max_intensity=300, point_radius=4)\n",
    "\n",
    "fig.add_layer(heat_layer)\n",
    "# Call the figure to plot the data.\n",
    "fig"
   ]
  },
  {
   "cell_type": "code",
   "execution_count": 11,
   "metadata": {},
   "outputs": [],
   "source": [
    "min_temp = float(input(\"What is the minimum temperature you would like for your trip? \"))\n",
    "max_temp = float(input(\"What is the maximum temperature you would like for your trip? \"))"
   ]
  },
  {
   "cell_type": "code",
   "execution_count": 12,
   "metadata": {},
   "outputs": [
    {
     "output_type": "execute_result",
     "data": {
      "text/plain": [
       "    City_ID        City Country                 Date      Lat       Lng  \\\n",
       "3         3        Bria      CF  2021-04-12 14:45:06   6.5423   21.9863   \n",
       "6         6   Cape Town      ZA  2021-04-12 14:43:37 -33.9258   18.4232   \n",
       "7         7    Hermanus      ZA  2021-04-12 14:44:02 -34.4187   19.2345   \n",
       "10       10  Vila Velha      BR  2021-04-12 14:45:11 -20.3297  -40.2925   \n",
       "11       11    Bengkulu      ID  2021-04-12 14:42:05  -3.8004  102.2655   \n",
       "17       17     Buluang      PH  2021-04-12 14:45:16  13.3068  123.3425   \n",
       "18       18  San Andres      CO  2021-04-12 14:43:21  12.5847  -81.7006   \n",
       "22       22   La Plaine      DM  2021-04-12 14:45:19  15.3333  -61.2500   \n",
       "23       23    Lorengau      PG  2021-04-12 14:45:20  -2.0226  147.2712   \n",
       "24       24        Miri      MY  2021-04-12 14:45:21   4.4148  114.0089   \n",
       "\n",
       "    Max Temp  Humidity  Cloudiness  Wind Speed  \n",
       "3      81.18        59         100        5.08  \n",
       "6      75.99        53           0       14.97  \n",
       "7      77.00        60         100        1.99  \n",
       "10     86.00        54          40        8.05  \n",
       "11     77.22        86          96        4.00  \n",
       "17     75.87        91          76        3.09  \n",
       "18     84.20        74          40        8.05  \n",
       "22     84.20        70          75        2.30  \n",
       "23     78.04        82         100        4.61  \n",
       "24     78.80        89          40        0.65  "
      ],
      "text/html": "<div>\n<style scoped>\n    .dataframe tbody tr th:only-of-type {\n        vertical-align: middle;\n    }\n\n    .dataframe tbody tr th {\n        vertical-align: top;\n    }\n\n    .dataframe thead th {\n        text-align: right;\n    }\n</style>\n<table border=\"1\" class=\"dataframe\">\n  <thead>\n    <tr style=\"text-align: right;\">\n      <th></th>\n      <th>City_ID</th>\n      <th>City</th>\n      <th>Country</th>\n      <th>Date</th>\n      <th>Lat</th>\n      <th>Lng</th>\n      <th>Max Temp</th>\n      <th>Humidity</th>\n      <th>Cloudiness</th>\n      <th>Wind Speed</th>\n    </tr>\n  </thead>\n  <tbody>\n    <tr>\n      <th>3</th>\n      <td>3</td>\n      <td>Bria</td>\n      <td>CF</td>\n      <td>2021-04-12 14:45:06</td>\n      <td>6.5423</td>\n      <td>21.9863</td>\n      <td>81.18</td>\n      <td>59</td>\n      <td>100</td>\n      <td>5.08</td>\n    </tr>\n    <tr>\n      <th>6</th>\n      <td>6</td>\n      <td>Cape Town</td>\n      <td>ZA</td>\n      <td>2021-04-12 14:43:37</td>\n      <td>-33.9258</td>\n      <td>18.4232</td>\n      <td>75.99</td>\n      <td>53</td>\n      <td>0</td>\n      <td>14.97</td>\n    </tr>\n    <tr>\n      <th>7</th>\n      <td>7</td>\n      <td>Hermanus</td>\n      <td>ZA</td>\n      <td>2021-04-12 14:44:02</td>\n      <td>-34.4187</td>\n      <td>19.2345</td>\n      <td>77.00</td>\n      <td>60</td>\n      <td>100</td>\n      <td>1.99</td>\n    </tr>\n    <tr>\n      <th>10</th>\n      <td>10</td>\n      <td>Vila Velha</td>\n      <td>BR</td>\n      <td>2021-04-12 14:45:11</td>\n      <td>-20.3297</td>\n      <td>-40.2925</td>\n      <td>86.00</td>\n      <td>54</td>\n      <td>40</td>\n      <td>8.05</td>\n    </tr>\n    <tr>\n      <th>11</th>\n      <td>11</td>\n      <td>Bengkulu</td>\n      <td>ID</td>\n      <td>2021-04-12 14:42:05</td>\n      <td>-3.8004</td>\n      <td>102.2655</td>\n      <td>77.22</td>\n      <td>86</td>\n      <td>96</td>\n      <td>4.00</td>\n    </tr>\n    <tr>\n      <th>17</th>\n      <td>17</td>\n      <td>Buluang</td>\n      <td>PH</td>\n      <td>2021-04-12 14:45:16</td>\n      <td>13.3068</td>\n      <td>123.3425</td>\n      <td>75.87</td>\n      <td>91</td>\n      <td>76</td>\n      <td>3.09</td>\n    </tr>\n    <tr>\n      <th>18</th>\n      <td>18</td>\n      <td>San Andres</td>\n      <td>CO</td>\n      <td>2021-04-12 14:43:21</td>\n      <td>12.5847</td>\n      <td>-81.7006</td>\n      <td>84.20</td>\n      <td>74</td>\n      <td>40</td>\n      <td>8.05</td>\n    </tr>\n    <tr>\n      <th>22</th>\n      <td>22</td>\n      <td>La Plaine</td>\n      <td>DM</td>\n      <td>2021-04-12 14:45:19</td>\n      <td>15.3333</td>\n      <td>-61.2500</td>\n      <td>84.20</td>\n      <td>70</td>\n      <td>75</td>\n      <td>2.30</td>\n    </tr>\n    <tr>\n      <th>23</th>\n      <td>23</td>\n      <td>Lorengau</td>\n      <td>PG</td>\n      <td>2021-04-12 14:45:20</td>\n      <td>-2.0226</td>\n      <td>147.2712</td>\n      <td>78.04</td>\n      <td>82</td>\n      <td>100</td>\n      <td>4.61</td>\n    </tr>\n    <tr>\n      <th>24</th>\n      <td>24</td>\n      <td>Miri</td>\n      <td>MY</td>\n      <td>2021-04-12 14:45:21</td>\n      <td>4.4148</td>\n      <td>114.0089</td>\n      <td>78.80</td>\n      <td>89</td>\n      <td>40</td>\n      <td>0.65</td>\n    </tr>\n  </tbody>\n</table>\n</div>"
     },
     "metadata": {},
     "execution_count": 12
    }
   ],
   "source": [
    "preferred_cities_df = city_data_df.loc[(city_data_df[\"Max Temp\"] <= max_temp) & \\\n",
    "                                       (city_data_df[\"Max Temp\"] >= min_temp)]\n",
    "preferred_cities_df.head(10)"
   ]
  },
  {
   "cell_type": "code",
   "execution_count": 13,
   "metadata": {},
   "outputs": [
    {
     "output_type": "execute_result",
     "data": {
      "text/plain": [
       "          City Country  Max Temp      Lat       Lng Hotel Name\n",
       "3         Bria      CF     81.18   6.5423   21.9863           \n",
       "6    Cape Town      ZA     75.99 -33.9258   18.4232           \n",
       "7     Hermanus      ZA     77.00 -34.4187   19.2345           \n",
       "10  Vila Velha      BR     86.00 -20.3297  -40.2925           \n",
       "11    Bengkulu      ID     77.22  -3.8004  102.2655           \n",
       "17     Buluang      PH     75.87  13.3068  123.3425           \n",
       "18  San Andres      CO     84.20  12.5847  -81.7006           \n",
       "22   La Plaine      DM     84.20  15.3333  -61.2500           \n",
       "23    Lorengau      PG     78.04  -2.0226  147.2712           \n",
       "24        Miri      MY     78.80   4.4148  114.0089           "
      ],
      "text/html": "<div>\n<style scoped>\n    .dataframe tbody tr th:only-of-type {\n        vertical-align: middle;\n    }\n\n    .dataframe tbody tr th {\n        vertical-align: top;\n    }\n\n    .dataframe thead th {\n        text-align: right;\n    }\n</style>\n<table border=\"1\" class=\"dataframe\">\n  <thead>\n    <tr style=\"text-align: right;\">\n      <th></th>\n      <th>City</th>\n      <th>Country</th>\n      <th>Max Temp</th>\n      <th>Lat</th>\n      <th>Lng</th>\n      <th>Hotel Name</th>\n    </tr>\n  </thead>\n  <tbody>\n    <tr>\n      <th>3</th>\n      <td>Bria</td>\n      <td>CF</td>\n      <td>81.18</td>\n      <td>6.5423</td>\n      <td>21.9863</td>\n      <td></td>\n    </tr>\n    <tr>\n      <th>6</th>\n      <td>Cape Town</td>\n      <td>ZA</td>\n      <td>75.99</td>\n      <td>-33.9258</td>\n      <td>18.4232</td>\n      <td></td>\n    </tr>\n    <tr>\n      <th>7</th>\n      <td>Hermanus</td>\n      <td>ZA</td>\n      <td>77.00</td>\n      <td>-34.4187</td>\n      <td>19.2345</td>\n      <td></td>\n    </tr>\n    <tr>\n      <th>10</th>\n      <td>Vila Velha</td>\n      <td>BR</td>\n      <td>86.00</td>\n      <td>-20.3297</td>\n      <td>-40.2925</td>\n      <td></td>\n    </tr>\n    <tr>\n      <th>11</th>\n      <td>Bengkulu</td>\n      <td>ID</td>\n      <td>77.22</td>\n      <td>-3.8004</td>\n      <td>102.2655</td>\n      <td></td>\n    </tr>\n    <tr>\n      <th>17</th>\n      <td>Buluang</td>\n      <td>PH</td>\n      <td>75.87</td>\n      <td>13.3068</td>\n      <td>123.3425</td>\n      <td></td>\n    </tr>\n    <tr>\n      <th>18</th>\n      <td>San Andres</td>\n      <td>CO</td>\n      <td>84.20</td>\n      <td>12.5847</td>\n      <td>-81.7006</td>\n      <td></td>\n    </tr>\n    <tr>\n      <th>22</th>\n      <td>La Plaine</td>\n      <td>DM</td>\n      <td>84.20</td>\n      <td>15.3333</td>\n      <td>-61.2500</td>\n      <td></td>\n    </tr>\n    <tr>\n      <th>23</th>\n      <td>Lorengau</td>\n      <td>PG</td>\n      <td>78.04</td>\n      <td>-2.0226</td>\n      <td>147.2712</td>\n      <td></td>\n    </tr>\n    <tr>\n      <th>24</th>\n      <td>Miri</td>\n      <td>MY</td>\n      <td>78.80</td>\n      <td>4.4148</td>\n      <td>114.0089</td>\n      <td></td>\n    </tr>\n  </tbody>\n</table>\n</div>"
     },
     "metadata": {},
     "execution_count": 13
    }
   ],
   "source": [
    "hotel_df = preferred_cities_df[[\"City\", \"Country\", \"Max Temp\", \"Lat\", \"Lng\"]].copy()\n",
    "hotel_df[\"Hotel Name\"] = \"\"\n",
    "hotel_df.head(10)"
   ]
  },
  {
   "cell_type": "code",
   "execution_count": 14,
   "metadata": {},
   "outputs": [
    {
     "output_type": "stream",
     "name": "stdout",
     "text": [
      "Hotel not found... skipping.\n",
      "Hotel not found... skipping.\n",
      "Hotel not found... skipping.\n",
      "Hotel not found... skipping.\n",
      "Hotel not found... skipping.\n",
      "Hotel not found... skipping.\n",
      "Hotel not found... skipping.\n",
      "Hotel not found... skipping.\n",
      "Hotel not found... skipping.\n",
      "Hotel not found... skipping.\n",
      "Hotel not found... skipping.\n",
      "Hotel not found... skipping.\n",
      "Hotel not found... skipping.\n",
      "Hotel not found... skipping.\n",
      "Hotel not found... skipping.\n",
      "Hotel not found... skipping.\n",
      "Hotel not found... skipping.\n",
      "Hotel not found... skipping.\n",
      "Hotel not found... skipping.\n",
      "Hotel not found... skipping.\n",
      "Hotel not found... skipping.\n",
      "Hotel not found... skipping.\n",
      "Hotel not found... skipping.\n",
      "Hotel not found... skipping.\n",
      "Hotel not found... skipping.\n",
      "Hotel not found... skipping.\n",
      "Hotel not found... skipping.\n",
      "Hotel not found... skipping.\n",
      "Hotel not found... skipping.\n",
      "Hotel not found... skipping.\n",
      "Hotel not found... skipping.\n",
      "Hotel not found... skipping.\n",
      "Hotel not found... skipping.\n",
      "Hotel not found... skipping.\n",
      "Hotel not found... skipping.\n",
      "Hotel not found... skipping.\n",
      "Hotel not found... skipping.\n",
      "Hotel not found... skipping.\n",
      "Hotel not found... skipping.\n",
      "Hotel not found... skipping.\n",
      "Hotel not found... skipping.\n",
      "Hotel not found... skipping.\n",
      "Hotel not found... skipping.\n",
      "Hotel not found... skipping.\n",
      "Hotel not found... skipping.\n",
      "Hotel not found... skipping.\n",
      "Hotel not found... skipping.\n",
      "Hotel not found... skipping.\n",
      "Hotel not found... skipping.\n",
      "Hotel not found... skipping.\n",
      "Hotel not found... skipping.\n",
      "Hotel not found... skipping.\n",
      "Hotel not found... skipping.\n",
      "Hotel not found... skipping.\n",
      "Hotel not found... skipping.\n",
      "Hotel not found... skipping.\n",
      "Hotel not found... skipping.\n",
      "Hotel not found... skipping.\n"
     ]
    }
   ],
   "source": [
    "# Set parameters to search for a hotel.\n",
    "params = {\n",
    "    \"radius\": 500,\n",
    "    \"type\": \"lodging\",\n",
    "    \"key\": g_key\n",
    "}\n",
    "# Iterate through the DataFrame.\n",
    "for index, row in hotel_df.iterrows():\n",
    "    # Get the latitude and longitude.\n",
    "    lat = row[\"Lat\"]\n",
    "    lng = row[\"Lng\"]\n",
    "\n",
    "    # Add the latitude and longitude to location key for the params dictionary.\n",
    "    params[\"location\"] = f\"{lat},{lng}\"\n",
    "\n",
    "    # Use the search term: \"lodging\" and our latitude and longitude.\n",
    "    base_url = \"https://maps.googleapis.com/maps/api/place/nearbysearch/json?parameters\"\n",
    "    # Make request and get the JSON data from the search.\n",
    "    hotels = requests.get(base_url, params=params).json()\n",
    "    # Grab the first hotel from the results and store the name.\n",
    "    try:\n",
    "        hotel_df.loc[index, \"Hotel Name\"] = hotels[\"results\"][0][\"name\"]\n",
    "    except (IndexError):\n",
    "        print(\"Hotel not found... skipping.\")"
   ]
  },
  {
   "cell_type": "code",
   "execution_count": 15,
   "metadata": {},
   "outputs": [
    {
     "output_type": "execute_result",
     "data": {
      "text/plain": [
       "                City Country  Max Temp      Lat       Lng  \\\n",
       "502         Tomatlan      MX     77.32  19.9333 -105.2500   \n",
       "505        Kisangani      CD     87.64   0.5167   25.2000   \n",
       "507          Isabela      PH     80.87   6.7085  121.9711   \n",
       "508  Lazaro Cardenas      MX     78.58  17.9583 -102.2000   \n",
       "513          Sal Rei      CV     82.40  16.1833  -22.9167   \n",
       "514         Miranpur      IN     86.02  29.3000   77.9333   \n",
       "519     San Patricio      US     78.01  28.0170  -97.5169   \n",
       "520              Ler      SS     81.30   8.3018   30.1418   \n",
       "521         Ambilobe      MG     78.66 -13.2000   49.0500   \n",
       "522          Wanning      CN     75.34  18.8003  110.3967   \n",
       "524         Cam Ranh      VN     77.00  11.9214  109.1591   \n",
       "526           Koumac      NC     75.69 -20.5667  164.2833   \n",
       "530           Kitgum      UG     82.87   3.2783   32.8867   \n",
       "531   Puerto Carreno      CO     78.80   6.1890  -67.4859   \n",
       "533            Luena      AO     75.20 -11.7833   19.9167   \n",
       "538            Mutis      CO     82.17   6.2262  -77.4044   \n",
       "539          Sakakah      SA     80.60  29.9697   40.2064   \n",
       "545        Kavaratti      IN     84.15  10.5669   72.6420   \n",
       "551     Guayaramerin      BO     80.60 -10.8368  -65.3614   \n",
       "552           Uruacu      BR     85.42 -14.5247  -49.1408   \n",
       "\n",
       "                     Hotel Name  \n",
       "502                Norma franco  \n",
       "505  Centre D'accueil Joli Reve  \n",
       "507                Casa Rosario  \n",
       "508          Hotel Viña Del Mar  \n",
       "513                  Ca Jasmine  \n",
       "514         Dhaba New Chaudhari  \n",
       "519                              \n",
       "520                              \n",
       "521              Hotel National  \n",
       "522              Yelinwan Hotel  \n",
       "524                Ami homestay  \n",
       "526    Chez Pascal et Claudia 2  \n",
       "530                              \n",
       "531         Casa Hotel Victoria  \n",
       "533           condominio Araújo  \n",
       "538            Hotel Balboa Inn  \n",
       "539               شراشف أم رجاء  \n",
       "545              Poddar Sworone  \n",
       "551           Eros Guayaramerin  \n",
       "552                Casa da Vovó  "
      ],
      "text/html": "<div>\n<style scoped>\n    .dataframe tbody tr th:only-of-type {\n        vertical-align: middle;\n    }\n\n    .dataframe tbody tr th {\n        vertical-align: top;\n    }\n\n    .dataframe thead th {\n        text-align: right;\n    }\n</style>\n<table border=\"1\" class=\"dataframe\">\n  <thead>\n    <tr style=\"text-align: right;\">\n      <th></th>\n      <th>City</th>\n      <th>Country</th>\n      <th>Max Temp</th>\n      <th>Lat</th>\n      <th>Lng</th>\n      <th>Hotel Name</th>\n    </tr>\n  </thead>\n  <tbody>\n    <tr>\n      <th>502</th>\n      <td>Tomatlan</td>\n      <td>MX</td>\n      <td>77.32</td>\n      <td>19.9333</td>\n      <td>-105.2500</td>\n      <td>Norma franco</td>\n    </tr>\n    <tr>\n      <th>505</th>\n      <td>Kisangani</td>\n      <td>CD</td>\n      <td>87.64</td>\n      <td>0.5167</td>\n      <td>25.2000</td>\n      <td>Centre D'accueil Joli Reve</td>\n    </tr>\n    <tr>\n      <th>507</th>\n      <td>Isabela</td>\n      <td>PH</td>\n      <td>80.87</td>\n      <td>6.7085</td>\n      <td>121.9711</td>\n      <td>Casa Rosario</td>\n    </tr>\n    <tr>\n      <th>508</th>\n      <td>Lazaro Cardenas</td>\n      <td>MX</td>\n      <td>78.58</td>\n      <td>17.9583</td>\n      <td>-102.2000</td>\n      <td>Hotel Viña Del Mar</td>\n    </tr>\n    <tr>\n      <th>513</th>\n      <td>Sal Rei</td>\n      <td>CV</td>\n      <td>82.40</td>\n      <td>16.1833</td>\n      <td>-22.9167</td>\n      <td>Ca Jasmine</td>\n    </tr>\n    <tr>\n      <th>514</th>\n      <td>Miranpur</td>\n      <td>IN</td>\n      <td>86.02</td>\n      <td>29.3000</td>\n      <td>77.9333</td>\n      <td>Dhaba New Chaudhari</td>\n    </tr>\n    <tr>\n      <th>519</th>\n      <td>San Patricio</td>\n      <td>US</td>\n      <td>78.01</td>\n      <td>28.0170</td>\n      <td>-97.5169</td>\n      <td></td>\n    </tr>\n    <tr>\n      <th>520</th>\n      <td>Ler</td>\n      <td>SS</td>\n      <td>81.30</td>\n      <td>8.3018</td>\n      <td>30.1418</td>\n      <td></td>\n    </tr>\n    <tr>\n      <th>521</th>\n      <td>Ambilobe</td>\n      <td>MG</td>\n      <td>78.66</td>\n      <td>-13.2000</td>\n      <td>49.0500</td>\n      <td>Hotel National</td>\n    </tr>\n    <tr>\n      <th>522</th>\n      <td>Wanning</td>\n      <td>CN</td>\n      <td>75.34</td>\n      <td>18.8003</td>\n      <td>110.3967</td>\n      <td>Yelinwan Hotel</td>\n    </tr>\n    <tr>\n      <th>524</th>\n      <td>Cam Ranh</td>\n      <td>VN</td>\n      <td>77.00</td>\n      <td>11.9214</td>\n      <td>109.1591</td>\n      <td>Ami homestay</td>\n    </tr>\n    <tr>\n      <th>526</th>\n      <td>Koumac</td>\n      <td>NC</td>\n      <td>75.69</td>\n      <td>-20.5667</td>\n      <td>164.2833</td>\n      <td>Chez Pascal et Claudia 2</td>\n    </tr>\n    <tr>\n      <th>530</th>\n      <td>Kitgum</td>\n      <td>UG</td>\n      <td>82.87</td>\n      <td>3.2783</td>\n      <td>32.8867</td>\n      <td></td>\n    </tr>\n    <tr>\n      <th>531</th>\n      <td>Puerto Carreno</td>\n      <td>CO</td>\n      <td>78.80</td>\n      <td>6.1890</td>\n      <td>-67.4859</td>\n      <td>Casa Hotel Victoria</td>\n    </tr>\n    <tr>\n      <th>533</th>\n      <td>Luena</td>\n      <td>AO</td>\n      <td>75.20</td>\n      <td>-11.7833</td>\n      <td>19.9167</td>\n      <td>condominio Araújo</td>\n    </tr>\n    <tr>\n      <th>538</th>\n      <td>Mutis</td>\n      <td>CO</td>\n      <td>82.17</td>\n      <td>6.2262</td>\n      <td>-77.4044</td>\n      <td>Hotel Balboa Inn</td>\n    </tr>\n    <tr>\n      <th>539</th>\n      <td>Sakakah</td>\n      <td>SA</td>\n      <td>80.60</td>\n      <td>29.9697</td>\n      <td>40.2064</td>\n      <td>شراشف أم رجاء</td>\n    </tr>\n    <tr>\n      <th>545</th>\n      <td>Kavaratti</td>\n      <td>IN</td>\n      <td>84.15</td>\n      <td>10.5669</td>\n      <td>72.6420</td>\n      <td>Poddar Sworone</td>\n    </tr>\n    <tr>\n      <th>551</th>\n      <td>Guayaramerin</td>\n      <td>BO</td>\n      <td>80.60</td>\n      <td>-10.8368</td>\n      <td>-65.3614</td>\n      <td>Eros Guayaramerin</td>\n    </tr>\n    <tr>\n      <th>552</th>\n      <td>Uruacu</td>\n      <td>BR</td>\n      <td>85.42</td>\n      <td>-14.5247</td>\n      <td>-49.1408</td>\n      <td>Casa da Vovó</td>\n    </tr>\n  </tbody>\n</table>\n</div>"
     },
     "metadata": {},
     "execution_count": 15
    }
   ],
   "source": [
    "hotel_df.tail(20)"
   ]
  },
  {
   "cell_type": "code",
   "execution_count": 16,
   "metadata": {},
   "outputs": [
    {
     "output_type": "display_data",
     "data": {
      "text/plain": "Figure(layout=FigureLayout(height='420px'))",
      "application/vnd.jupyter.widget-view+json": {
       "version_major": 2,
       "version_minor": 0,
       "model_id": "db5770da5e9541f9865b1fab1143d6ff"
      }
     },
     "metadata": {}
    }
   ],
   "source": [
    "# Add a heatmap of temperature for the vacation spots.\n",
    "locations = hotel_df[[\"Lat\", \"Lng\"]]\n",
    "max_temp = hotel_df[\"Max Temp\"]\n",
    "fig = gmaps.figure(center=(30.0, 31.0), zoom_level=1.5)\n",
    "heat_layer = gmaps.heatmap_layer(locations, weights=max_temp, dissipating=False,\n",
    "             max_intensity=300, point_radius=4)\n",
    "\n",
    "fig.add_layer(heat_layer)\n",
    "# Call the figure to plot the data.\n",
    "fig"
   ]
  },
  {
   "cell_type": "code",
   "execution_count": 17,
   "metadata": {},
   "outputs": [
    {
     "output_type": "display_data",
     "data": {
      "text/plain": "Figure(layout=FigureLayout(height='420px'))",
      "application/vnd.jupyter.widget-view+json": {
       "version_major": 2,
       "version_minor": 0,
       "model_id": "93ad5110f5e74756852c15f785ee58d3"
      }
     },
     "metadata": {}
    }
   ],
   "source": [
    "# Add a heatmap of temperature for the vacation spots and marker for each city.\n",
    "locations = hotel_df[[\"Lat\", \"Lng\"]]\n",
    "max_temp = hotel_df[\"Max Temp\"]\n",
    "fig = gmaps.figure(center=(30.0, 31.0), zoom_level=1.5)\n",
    "heat_layer = gmaps.heatmap_layer(locations, weights=max_temp,\n",
    "             dissipating=False, max_intensity=300, point_radius=4)\n",
    "marker_layer = gmaps.marker_layer(locations)\n",
    "fig.add_layer(heat_layer)\n",
    "fig.add_layer(marker_layer)\n",
    "# Call the figure to plot the data.\n",
    "fig"
   ]
  },
  {
   "cell_type": "code",
   "execution_count": 18,
   "metadata": {},
   "outputs": [],
   "source": [
    "info_box_template = \"\"\"\n",
    "<dl>\n",
    "<dt>Hotel Name</dt><dd>{Hotel Name}</dd>\n",
    "<dt>City</dt><dd>{City}</dd>\n",
    "<dt>Country</dt><dd>{Country}</dd>\n",
    "<dt>Max Temp</dt><dd>{Max Temp} °F</dd>\n",
    "</dl>\n",
    "\"\"\"\n",
    "hotel_info = [info_box_template.format(**row) for index, row in hotel_df.iterrows()]\n"
   ]
  },
  {
   "cell_type": "code",
   "execution_count": 19,
   "metadata": {},
   "outputs": [
    {
     "output_type": "display_data",
     "data": {
      "text/plain": "Figure(layout=FigureLayout(height='420px'))",
      "application/vnd.jupyter.widget-view+json": {
       "version_major": 2,
       "version_minor": 0,
       "model_id": "8b3a8abec73a4e3db22657c0b0eaa03e"
      }
     },
     "metadata": {}
    }
   ],
   "source": [
    "# Add a heatmap of temperature for the vacation spots and a pop-up marker for each city.\n",
    "locations = hotel_df[[\"Lat\", \"Lng\"]]\n",
    "max_temp = hotel_df[\"Max Temp\"]\n",
    "fig = gmaps.figure(center=(30.0, 31.0), zoom_level=1.5)\n",
    "heat_layer = gmaps.heatmap_layer(locations, weights=max_temp,dissipating=False,\n",
    "             max_intensity=300, point_radius=4)\n",
    "marker_layer = gmaps.marker_layer(locations, info_box_content=hotel_info)\n",
    "fig.add_layer(heat_layer)\n",
    "fig.add_layer(marker_layer)\n",
    "\n",
    "# Call the figure to plot the data.\n",
    "fig"
   ]
  },
  {
   "cell_type": "code",
   "execution_count": null,
   "metadata": {},
   "outputs": [],
   "source": []
  }
 ],
 "metadata": {
  "kernelspec": {
   "name": "pythondata",
   "display_name": "Python 3.7.9 64-bit ('PythonData': conda)"
  },
  "language_info": {
   "codemirror_mode": {
    "name": "ipython",
    "version": 3
   },
   "file_extension": ".py",
   "mimetype": "text/x-python",
   "name": "python",
   "nbconvert_exporter": "python",
   "pygments_lexer": "ipython3",
   "version": "3.7.9-final"
  }
 },
 "nbformat": 4,
 "nbformat_minor": 4
}
