{
 "cells": [
  {
   "cell_type": "markdown",
   "metadata": {},
   "source": [
    "## Deliverable 3. Create a Travel Itinerary Map."
   ]
  },
  {
   "cell_type": "code",
   "execution_count": 1,
   "metadata": {},
   "outputs": [],
   "source": [
    "# Dependencies and Setup\n",
    "import pandas as pd\n",
    "import requests\n",
    "import gmaps\n",
    "\n",
    "# Import API key\n",
    "from config import g_key\n",
    "\n",
    "# Configure gmaps\n",
    "gmaps.configure(api_key=g_key)"
   ]
  },
  {
   "cell_type": "code",
   "execution_count": 2,
   "metadata": {},
   "outputs": [
    {
     "output_type": "execute_result",
     "data": {
      "text/plain": [
       "   City_ID         City Country  Max Temp Current Description      Lat  \\\n",
       "0        1      Baghdad      IQ     84.20           clear sky  33.3406   \n",
       "1        8      Rosetta      EG     86.00           clear sky  31.4044   \n",
       "2        9        Dondo      MZ     75.20    scattered clouds -19.6094   \n",
       "3       15      Rikitea      PF     76.96           clear sky -23.1203   \n",
       "4       16  Grand Gaube      MU     77.00          light rain -20.0064   \n",
       "\n",
       "        Lng                            Hotel Name  \n",
       "0   44.4009                         Baghdad Hotel  \n",
       "1   30.4164                          Green Valley  \n",
       "2   34.7431                             Arco Iris  \n",
       "3 -134.9692                        Pension Maro'i  \n",
       "4   57.6608  Veranda Paul et Virginie Hotel & Spa  "
      ],
      "text/html": "<div>\n<style scoped>\n    .dataframe tbody tr th:only-of-type {\n        vertical-align: middle;\n    }\n\n    .dataframe tbody tr th {\n        vertical-align: top;\n    }\n\n    .dataframe thead th {\n        text-align: right;\n    }\n</style>\n<table border=\"1\" class=\"dataframe\">\n  <thead>\n    <tr style=\"text-align: right;\">\n      <th></th>\n      <th>City_ID</th>\n      <th>City</th>\n      <th>Country</th>\n      <th>Max Temp</th>\n      <th>Current Description</th>\n      <th>Lat</th>\n      <th>Lng</th>\n      <th>Hotel Name</th>\n    </tr>\n  </thead>\n  <tbody>\n    <tr>\n      <th>0</th>\n      <td>1</td>\n      <td>Baghdad</td>\n      <td>IQ</td>\n      <td>84.20</td>\n      <td>clear sky</td>\n      <td>33.3406</td>\n      <td>44.4009</td>\n      <td>Baghdad Hotel</td>\n    </tr>\n    <tr>\n      <th>1</th>\n      <td>8</td>\n      <td>Rosetta</td>\n      <td>EG</td>\n      <td>86.00</td>\n      <td>clear sky</td>\n      <td>31.4044</td>\n      <td>30.4164</td>\n      <td>Green Valley</td>\n    </tr>\n    <tr>\n      <th>2</th>\n      <td>9</td>\n      <td>Dondo</td>\n      <td>MZ</td>\n      <td>75.20</td>\n      <td>scattered clouds</td>\n      <td>-19.6094</td>\n      <td>34.7431</td>\n      <td>Arco Iris</td>\n    </tr>\n    <tr>\n      <th>3</th>\n      <td>15</td>\n      <td>Rikitea</td>\n      <td>PF</td>\n      <td>76.96</td>\n      <td>clear sky</td>\n      <td>-23.1203</td>\n      <td>-134.9692</td>\n      <td>Pension Maro'i</td>\n    </tr>\n    <tr>\n      <th>4</th>\n      <td>16</td>\n      <td>Grand Gaube</td>\n      <td>MU</td>\n      <td>77.00</td>\n      <td>light rain</td>\n      <td>-20.0064</td>\n      <td>57.6608</td>\n      <td>Veranda Paul et Virginie Hotel &amp; Spa</td>\n    </tr>\n  </tbody>\n</table>\n</div>"
     },
     "metadata": {},
     "execution_count": 2
    }
   ],
   "source": [
    "# 1. Read the WeatherPy_vacation.csv into a DataFrame.\n",
    "vacation_df = pd.read_csv(\"../Vacation_Search/WeatherPy_vacation.csv\")\n",
    "vacation_df.head()"
   ]
  },
  {
   "cell_type": "code",
   "execution_count": 5,
   "metadata": {},
   "outputs": [],
   "source": [
    "# 2. Using the template add the city name, the country code, the weather description and maximum temperature for the city.\n",
    "info_box_template = \"\"\"\n",
    "<dl>\n",
    "<dt>City</dt><dd>{City}</dd>\n",
    "<dt>Country</dt><dd>{Country}</dd>\n",
    "<dt>Max Temp</dt><dd>{Max Temp} °F</dd>\n",
    "</dl>\n",
    "\"\"\"\n",
    "# 3a. Get the data from each row and add it to the formatting template and store the data in a list.\n",
    "hotel_info = [info_box_template.format(**row) for index, row in vacation_df.iterrows()]\n",
    "\n",
    "# 3b. Get the latitude and longitude from each row and store in a new DataFrame.\n",
    "locations = vacation_df[[\"Lat\", \"Lng\"]]"
   ]
  },
  {
   "cell_type": "code",
   "execution_count": 6,
   "metadata": {},
   "outputs": [
    {
     "output_type": "display_data",
     "data": {
      "text/plain": "Figure(layout=FigureLayout(height='420px'))",
      "application/vnd.jupyter.widget-view+json": {
       "version_major": 2,
       "version_minor": 0,
       "model_id": "b633cd9a5be94e189d8a062a67853809"
      }
     },
     "metadata": {}
    }
   ],
   "source": [
    "# 4a. Add a marker layer for each city to the map.\n",
    "fig = gmaps.figure(center=(30.0, 31.0), zoom_level=1.5)\n",
    "marker_layer = gmaps.marker_layer(locations, info_box_content=hotel_info)\n",
    "fig.add_layer(marker_layer)\n",
    "\n",
    "# 4b. Display the figure\n",
    "fig\n"
   ]
  },
  {
   "cell_type": "code",
   "execution_count": 22,
   "metadata": {},
   "outputs": [],
   "source": [
    "# From the map above pick 4 cities and create a vacation itinerary route to travel between the four cities. \n",
    "# 5. Create DataFrames for each city by filtering the 'vacation_df' using the loc method. \n",
    "# Hint: The starting and ending city should be the same city.\n",
    "\n",
    "vacation_start = vacation_df.loc[(vacation_df[\"City\"] == \"Souillac\") & (vacation_df[\"Country\"] == \"MU\")]\n",
    "vacation_end = vacation_df.loc[(vacation_df[\"City\"] == \"Souillac\") & (vacation_df[\"Country\"] == \"MU\")]\n",
    "vacation_stop1 = vacation_df.loc[(vacation_df[\"City\"] == \"Bambous Virieux\") & (vacation_df[\"Country\"] == \"MU\")]\n",
    "vacation_stop2 = vacation_df.loc[(vacation_df[\"City\"] == \"Quatre Cocos\") & (vacation_df[\"Country\"] == \"MU\")] \n",
    "vacation_stop3 = vacation_df.loc[(vacation_df[\"City\"] == \"Grand Gaube\") & (vacation_df[\"Country\"] == \"MU\")] "
   ]
  },
  {
   "cell_type": "code",
   "execution_count": 25,
   "metadata": {},
   "outputs": [],
   "source": [
    "# 6. Get the latitude-longitude pairs as tuples from each city DataFrame using the to_numpy function and list indexing.\n",
    "start = vacation_start[[\"Lat\",\"Lng\"]].to_numpy()\n",
    "end = vacation_end[[\"Lat\",\"Lng\"]].to_numpy()\n",
    "stop1 = vacation_stop1[[\"Lat\",\"Lng\"]].to_numpy()\n",
    "stop2 = vacation_stop2[[\"Lat\",\"Lng\"]].to_numpy()\n",
    "stop3 = vacation_stop3[[\"Lat\",\"Lng\"]].to_numpy()"
   ]
  },
  {
   "cell_type": "code",
   "execution_count": 29,
   "metadata": {
    "scrolled": true
   },
   "outputs": [
    {
     "output_type": "display_data",
     "data": {
      "text/plain": "Figure(layout=FigureLayout(height='420px'))",
      "application/vnd.jupyter.widget-view+json": {
       "version_major": 2,
       "version_minor": 0,
       "model_id": "a10ec70312c84b169df4501b49bf5b4f"
      }
     },
     "metadata": {}
    }
   ],
   "source": [
    "# 7. Create a direction layer map using the start and end latitude-longitude pairs,\n",
    "# and stop1, stop2, and stop3 as the waypoints. The travel_mode should be \"DRIVING\", \"BICYCLING\", or \"WALKING\".\n",
    "fig = gmaps.figure(center=(-20.3484, 57.5522), zoom_level=9)\n",
    "directions_layer = gmaps.directions_layer(start[0], end[0], waypoints = [stop1[0],stop2[0],stop3[0]], travel_mode = \"DRIVING\", show_markers = False)\n",
    "fig.add_layer(directions_layer)\n",
    "fig"
   ]
  },
  {
   "cell_type": "code",
   "execution_count": 31,
   "metadata": {},
   "outputs": [
    {
     "output_type": "execute_result",
     "data": {
      "text/plain": [
       "   City_ID             City Country  Max Temp Current Description      Lat  \\\n",
       "0      500         Souillac      MU      77.0       moderate rain -20.5167   \n",
       "1      500         Souillac      MU      77.0       moderate rain -20.5167   \n",
       "2       51  Bambous Virieux      MU      77.0       moderate rain -20.3428   \n",
       "3      237     Quatre Cocos      MU      77.0       moderate rain -20.2078   \n",
       "4       16      Grand Gaube      MU      77.0          light rain -20.0064   \n",
       "\n",
       "       Lng                            Hotel Name  \n",
       "0  57.5167           Shanti Maurice Resort & Spa  \n",
       "1  57.5167           Shanti Maurice Resort & Spa  \n",
       "2  57.7575                        Casa Tia Villa  \n",
       "3  57.7625         Emeraude Beach Attitude Hotel  \n",
       "4  57.6608  Veranda Paul et Virginie Hotel & Spa  "
      ],
      "text/html": "<div>\n<style scoped>\n    .dataframe tbody tr th:only-of-type {\n        vertical-align: middle;\n    }\n\n    .dataframe tbody tr th {\n        vertical-align: top;\n    }\n\n    .dataframe thead th {\n        text-align: right;\n    }\n</style>\n<table border=\"1\" class=\"dataframe\">\n  <thead>\n    <tr style=\"text-align: right;\">\n      <th></th>\n      <th>City_ID</th>\n      <th>City</th>\n      <th>Country</th>\n      <th>Max Temp</th>\n      <th>Current Description</th>\n      <th>Lat</th>\n      <th>Lng</th>\n      <th>Hotel Name</th>\n    </tr>\n  </thead>\n  <tbody>\n    <tr>\n      <th>0</th>\n      <td>500</td>\n      <td>Souillac</td>\n      <td>MU</td>\n      <td>77.0</td>\n      <td>moderate rain</td>\n      <td>-20.5167</td>\n      <td>57.5167</td>\n      <td>Shanti Maurice Resort &amp; Spa</td>\n    </tr>\n    <tr>\n      <th>1</th>\n      <td>500</td>\n      <td>Souillac</td>\n      <td>MU</td>\n      <td>77.0</td>\n      <td>moderate rain</td>\n      <td>-20.5167</td>\n      <td>57.5167</td>\n      <td>Shanti Maurice Resort &amp; Spa</td>\n    </tr>\n    <tr>\n      <th>2</th>\n      <td>51</td>\n      <td>Bambous Virieux</td>\n      <td>MU</td>\n      <td>77.0</td>\n      <td>moderate rain</td>\n      <td>-20.3428</td>\n      <td>57.7575</td>\n      <td>Casa Tia Villa</td>\n    </tr>\n    <tr>\n      <th>3</th>\n      <td>237</td>\n      <td>Quatre Cocos</td>\n      <td>MU</td>\n      <td>77.0</td>\n      <td>moderate rain</td>\n      <td>-20.2078</td>\n      <td>57.7625</td>\n      <td>Emeraude Beach Attitude Hotel</td>\n    </tr>\n    <tr>\n      <th>4</th>\n      <td>16</td>\n      <td>Grand Gaube</td>\n      <td>MU</td>\n      <td>77.0</td>\n      <td>light rain</td>\n      <td>-20.0064</td>\n      <td>57.6608</td>\n      <td>Veranda Paul et Virginie Hotel &amp; Spa</td>\n    </tr>\n  </tbody>\n</table>\n</div>"
     },
     "metadata": {},
     "execution_count": 31
    }
   ],
   "source": [
    "# 8. To create a marker layer map between the four cities.\n",
    "#  Combine the four city DataFrames into one DataFrame using the concat() function.\n",
    "itinerary_df = pd.concat([vacation_start, vacation_end, vacation_stop1, vacation_stop2, vacation_stop3],ignore_index=True)\n",
    "itinerary_df"
   ]
  },
  {
   "cell_type": "code",
   "execution_count": 33,
   "metadata": {},
   "outputs": [],
   "source": [
    "# 9 Using the template add city name, the country code, the weather description and maximum temperature for the city. \n",
    "info_box_template = \"\"\"\n",
    "<dl><dt>Hotel Name</dt><dd>{Hotel Name}</dd>\n",
    "<dt>City</dt><dd>{City}</dd>\n",
    "<dt>Country</dt><dd>{Country}</dd>\n",
    "<dt>Current Weather</dt><dd>{Current Description} and {Max Temp} °F</dd>\n",
    "</dl>\n",
    "\"\"\"\n",
    "# 10a Get the data from each row and add it to the formatting template and store the data in a list.\n",
    "hotel_info = [info_box_template.format(**row) for index, row in itinerary_df.iterrows()]\n",
    "\n",
    "# 10b. Get the latitude and longitude from each row and store in a new DataFrame.\n",
    "locations = itinerary_df[[\"Lat\", \"Lng\"]]"
   ]
  },
  {
   "cell_type": "code",
   "execution_count": 34,
   "metadata": {},
   "outputs": [
    {
     "output_type": "display_data",
     "data": {
      "text/plain": "Figure(layout=FigureLayout(height='420px'))",
      "application/vnd.jupyter.widget-view+json": {
       "version_major": 2,
       "version_minor": 0,
       "model_id": "d982513cb70042c5a33888053d2feee5"
      }
     },
     "metadata": {}
    }
   ],
   "source": [
    "# 11a. Add a marker layer for each city to the map.\n",
    "fig = gmaps.figure(center=(-20.3484, 57.5522), zoom_level=9)\n",
    "directions_layer = gmaps.directions_layer(start[0], end[0], waypoints = [stop1[0],stop2[0],stop3[0]], travel_mode = \"DRIVING\", show_markers = False)\n",
    "marker_layer = marker_layer = gmaps.marker_layer(locations, info_box_content=hotel_info)\n",
    "fig.add_layer(directions_layer)\n",
    "fig.add_layer(marker_layer)\n",
    "fig\n",
    "# 11b. Display the figure\n"
   ]
  },
  {
   "cell_type": "code",
   "execution_count": null,
   "metadata": {},
   "outputs": [],
   "source": []
  }
 ],
 "metadata": {
  "kernelspec": {
   "name": "pythondata",
   "display_name": "Python 3.7.9 64-bit ('PythonData': conda)"
  },
  "language_info": {
   "codemirror_mode": {
    "name": "ipython",
    "version": 3
   },
   "file_extension": ".py",
   "mimetype": "text/x-python",
   "name": "python",
   "nbconvert_exporter": "python",
   "pygments_lexer": "ipython3",
   "version": "3.7.9-final"
  },
  "latex_envs": {
   "LaTeX_envs_menu_present": true,
   "autoclose": false,
   "autocomplete": true,
   "bibliofile": "biblio.bib",
   "cite_by": "apalike",
   "current_citInitial": 1,
   "eqLabelWithNumbers": true,
   "eqNumInitial": 1,
   "hotkeys": {
    "equation": "Ctrl-E",
    "itemize": "Ctrl-I"
   },
   "labels_anchors": false,
   "latex_user_defs": false,
   "report_style_numbering": false,
   "user_envs_cfg": false
  }
 },
 "nbformat": 4,
 "nbformat_minor": 2
}