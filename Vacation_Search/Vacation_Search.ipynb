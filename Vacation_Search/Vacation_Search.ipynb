{
 "cells": [
  {
   "cell_type": "markdown",
   "metadata": {},
   "source": [
    "## Deliverable 2. Create a Customer Travel Destinations Map."
   ]
  },
  {
   "cell_type": "code",
   "execution_count": 1,
   "metadata": {},
   "outputs": [],
   "source": [
    "# Dependencies and Setup\n",
    "import pandas as pd\n",
    "import requests\n",
    "import gmaps\n",
    "from datetime import datetime\n",
    "# Import API key\n",
    "from config import g_key\n",
    "\n",
    "# Configure gmaps API key\n",
    "gmaps.configure(api_key=g_key)"
   ]
  },
  {
   "cell_type": "code",
   "execution_count": 3,
   "metadata": {},
   "outputs": [
    {
     "output_type": "execute_result",
     "data": {
      "text/plain": [
       "   City_ID              City Country      Lat       Lng  Max Temp  Humidity  \\\n",
       "0        0  Dzhebariki-Khaya      RU  62.2167  135.8000     18.88        90   \n",
       "1        1           Baghdad      IQ  33.3406   44.4009     84.20        26   \n",
       "2        2       New Norfolk      AU -42.7826  147.0587     54.00        76   \n",
       "3        3          Sobolevo      RU  54.4299   31.8996     44.33        83   \n",
       "4        4             Kapaa      US  22.0752 -159.3190     69.80        78   \n",
       "\n",
       "   Cloudiness  Wind Speed Current Description  \n",
       "0         100        5.86     overcast clouds  \n",
       "1           0        3.44           clear sky  \n",
       "2         100        1.01     overcast clouds  \n",
       "3          95       10.47     overcast clouds  \n",
       "4          90        4.61     overcast clouds  "
      ],
      "text/html": "<div>\n<style scoped>\n    .dataframe tbody tr th:only-of-type {\n        vertical-align: middle;\n    }\n\n    .dataframe tbody tr th {\n        vertical-align: top;\n    }\n\n    .dataframe thead th {\n        text-align: right;\n    }\n</style>\n<table border=\"1\" class=\"dataframe\">\n  <thead>\n    <tr style=\"text-align: right;\">\n      <th></th>\n      <th>City_ID</th>\n      <th>City</th>\n      <th>Country</th>\n      <th>Lat</th>\n      <th>Lng</th>\n      <th>Max Temp</th>\n      <th>Humidity</th>\n      <th>Cloudiness</th>\n      <th>Wind Speed</th>\n      <th>Current Description</th>\n    </tr>\n  </thead>\n  <tbody>\n    <tr>\n      <th>0</th>\n      <td>0</td>\n      <td>Dzhebariki-Khaya</td>\n      <td>RU</td>\n      <td>62.2167</td>\n      <td>135.8000</td>\n      <td>18.88</td>\n      <td>90</td>\n      <td>100</td>\n      <td>5.86</td>\n      <td>overcast clouds</td>\n    </tr>\n    <tr>\n      <th>1</th>\n      <td>1</td>\n      <td>Baghdad</td>\n      <td>IQ</td>\n      <td>33.3406</td>\n      <td>44.4009</td>\n      <td>84.20</td>\n      <td>26</td>\n      <td>0</td>\n      <td>3.44</td>\n      <td>clear sky</td>\n    </tr>\n    <tr>\n      <th>2</th>\n      <td>2</td>\n      <td>New Norfolk</td>\n      <td>AU</td>\n      <td>-42.7826</td>\n      <td>147.0587</td>\n      <td>54.00</td>\n      <td>76</td>\n      <td>100</td>\n      <td>1.01</td>\n      <td>overcast clouds</td>\n    </tr>\n    <tr>\n      <th>3</th>\n      <td>3</td>\n      <td>Sobolevo</td>\n      <td>RU</td>\n      <td>54.4299</td>\n      <td>31.8996</td>\n      <td>44.33</td>\n      <td>83</td>\n      <td>95</td>\n      <td>10.47</td>\n      <td>overcast clouds</td>\n    </tr>\n    <tr>\n      <th>4</th>\n      <td>4</td>\n      <td>Kapaa</td>\n      <td>US</td>\n      <td>22.0752</td>\n      <td>-159.3190</td>\n      <td>69.80</td>\n      <td>78</td>\n      <td>90</td>\n      <td>4.61</td>\n      <td>overcast clouds</td>\n    </tr>\n  </tbody>\n</table>\n</div>"
     },
     "metadata": {},
     "execution_count": 3
    }
   ],
   "source": [
    "# 1. Import the WeatherPy_database.csv file. \n",
    "city_data_df = pd.read_csv(\"../Weather_Database/WeatherPy_database.csv\")\n",
    "city_data_df.head()"
   ]
  },
  {
   "cell_type": "code",
   "execution_count": 4,
   "metadata": {},
   "outputs": [],
   "source": [
    "# 2. Prompt the user to enter minimum and maximum temperature criteria \n",
    "min_temp = float(input(\"What is the minimum temperature you would like for your trip? \"))\n",
    "max_temp = float(input(\"What is the maximum temperature you would like for your trip? \"))"
   ]
  },
  {
   "cell_type": "code",
   "execution_count": 5,
   "metadata": {},
   "outputs": [
    {
     "output_type": "execute_result",
     "data": {
      "text/plain": [
       "    City_ID         City Country      Lat       Lng  Max Temp  Humidity  \\\n",
       "1         1      Baghdad      IQ  33.3406   44.4009     84.20        26   \n",
       "8         8      Rosetta      EG  31.4044   30.4164     86.00        37   \n",
       "9         9        Dondo      MZ -19.6094   34.7431     75.20        64   \n",
       "15       15      Rikitea      PF -23.1203 -134.9692     76.96        74   \n",
       "16       16  Grand Gaube      MU -20.0064   57.6608     77.00        85   \n",
       "17       17       Namibe      AO -15.1961   12.1522     81.41        70   \n",
       "19       19        Mahwa      IN  27.0471   76.9288     87.60        12   \n",
       "20       20       Faanui      PF -16.4833 -151.7500     82.02        72   \n",
       "22       22       Camopi      GF   3.1655  -52.3158     80.85        81   \n",
       "23       23       Rawson      AR -43.3002  -65.1023     75.85        33   \n",
       "\n",
       "    Cloudiness  Wind Speed Current Description  \n",
       "1            0        3.44           clear sky  \n",
       "8            0        6.91           clear sky  \n",
       "9           40        4.70    scattered clouds  \n",
       "15           2        7.18           clear sky  \n",
       "16         100        3.00          light rain  \n",
       "17          20       11.03          few clouds  \n",
       "19          10        4.59           clear sky  \n",
       "20           9       11.61           clear sky  \n",
       "22          84        4.00       broken clouds  \n",
       "23          67       15.77       broken clouds  "
      ],
      "text/html": "<div>\n<style scoped>\n    .dataframe tbody tr th:only-of-type {\n        vertical-align: middle;\n    }\n\n    .dataframe tbody tr th {\n        vertical-align: top;\n    }\n\n    .dataframe thead th {\n        text-align: right;\n    }\n</style>\n<table border=\"1\" class=\"dataframe\">\n  <thead>\n    <tr style=\"text-align: right;\">\n      <th></th>\n      <th>City_ID</th>\n      <th>City</th>\n      <th>Country</th>\n      <th>Lat</th>\n      <th>Lng</th>\n      <th>Max Temp</th>\n      <th>Humidity</th>\n      <th>Cloudiness</th>\n      <th>Wind Speed</th>\n      <th>Current Description</th>\n    </tr>\n  </thead>\n  <tbody>\n    <tr>\n      <th>1</th>\n      <td>1</td>\n      <td>Baghdad</td>\n      <td>IQ</td>\n      <td>33.3406</td>\n      <td>44.4009</td>\n      <td>84.20</td>\n      <td>26</td>\n      <td>0</td>\n      <td>3.44</td>\n      <td>clear sky</td>\n    </tr>\n    <tr>\n      <th>8</th>\n      <td>8</td>\n      <td>Rosetta</td>\n      <td>EG</td>\n      <td>31.4044</td>\n      <td>30.4164</td>\n      <td>86.00</td>\n      <td>37</td>\n      <td>0</td>\n      <td>6.91</td>\n      <td>clear sky</td>\n    </tr>\n    <tr>\n      <th>9</th>\n      <td>9</td>\n      <td>Dondo</td>\n      <td>MZ</td>\n      <td>-19.6094</td>\n      <td>34.7431</td>\n      <td>75.20</td>\n      <td>64</td>\n      <td>40</td>\n      <td>4.70</td>\n      <td>scattered clouds</td>\n    </tr>\n    <tr>\n      <th>15</th>\n      <td>15</td>\n      <td>Rikitea</td>\n      <td>PF</td>\n      <td>-23.1203</td>\n      <td>-134.9692</td>\n      <td>76.96</td>\n      <td>74</td>\n      <td>2</td>\n      <td>7.18</td>\n      <td>clear sky</td>\n    </tr>\n    <tr>\n      <th>16</th>\n      <td>16</td>\n      <td>Grand Gaube</td>\n      <td>MU</td>\n      <td>-20.0064</td>\n      <td>57.6608</td>\n      <td>77.00</td>\n      <td>85</td>\n      <td>100</td>\n      <td>3.00</td>\n      <td>light rain</td>\n    </tr>\n    <tr>\n      <th>17</th>\n      <td>17</td>\n      <td>Namibe</td>\n      <td>AO</td>\n      <td>-15.1961</td>\n      <td>12.1522</td>\n      <td>81.41</td>\n      <td>70</td>\n      <td>20</td>\n      <td>11.03</td>\n      <td>few clouds</td>\n    </tr>\n    <tr>\n      <th>19</th>\n      <td>19</td>\n      <td>Mahwa</td>\n      <td>IN</td>\n      <td>27.0471</td>\n      <td>76.9288</td>\n      <td>87.60</td>\n      <td>12</td>\n      <td>10</td>\n      <td>4.59</td>\n      <td>clear sky</td>\n    </tr>\n    <tr>\n      <th>20</th>\n      <td>20</td>\n      <td>Faanui</td>\n      <td>PF</td>\n      <td>-16.4833</td>\n      <td>-151.7500</td>\n      <td>82.02</td>\n      <td>72</td>\n      <td>9</td>\n      <td>11.61</td>\n      <td>clear sky</td>\n    </tr>\n    <tr>\n      <th>22</th>\n      <td>22</td>\n      <td>Camopi</td>\n      <td>GF</td>\n      <td>3.1655</td>\n      <td>-52.3158</td>\n      <td>80.85</td>\n      <td>81</td>\n      <td>84</td>\n      <td>4.00</td>\n      <td>broken clouds</td>\n    </tr>\n    <tr>\n      <th>23</th>\n      <td>23</td>\n      <td>Rawson</td>\n      <td>AR</td>\n      <td>-43.3002</td>\n      <td>-65.1023</td>\n      <td>75.85</td>\n      <td>33</td>\n      <td>67</td>\n      <td>15.77</td>\n      <td>broken clouds</td>\n    </tr>\n  </tbody>\n</table>\n</div>"
     },
     "metadata": {},
     "execution_count": 5
    }
   ],
   "source": [
    "# 3. Filter the city_data_df DataFrame using the input statements to create a new DataFrame using the loc method.\n",
    "preferred_cities_df = city_data_df.loc[(city_data_df[\"Max Temp\"] <= max_temp) & \\\n",
    "                                       (city_data_df[\"Max Temp\"] >= min_temp)]\n",
    "preferred_cities_df.head(10)"
   ]
  },
  {
   "cell_type": "code",
   "execution_count": 6,
   "metadata": {},
   "outputs": [],
   "source": [
    "# 4a. Determine if there are any empty rows.\n",
    "# 4b. Drop any empty rows and create a new DataFrame that doesn’t have empty rows.\n",
    "clean_df = preferred_cities_df.dropna()\n"
   ]
  },
  {
   "cell_type": "code",
   "execution_count": 7,
   "metadata": {},
   "outputs": [
    {
     "output_type": "execute_result",
     "data": {
      "text/plain": [
       "           City Country  Max Temp Current Description      Lat       Lng  \\\n",
       "1       Baghdad      IQ     84.20           clear sky  33.3406   44.4009   \n",
       "8       Rosetta      EG     86.00           clear sky  31.4044   30.4164   \n",
       "9         Dondo      MZ     75.20    scattered clouds -19.6094   34.7431   \n",
       "15      Rikitea      PF     76.96           clear sky -23.1203 -134.9692   \n",
       "16  Grand Gaube      MU     77.00          light rain -20.0064   57.6608   \n",
       "17       Namibe      AO     81.41          few clouds -15.1961   12.1522   \n",
       "19        Mahwa      IN     87.60           clear sky  27.0471   76.9288   \n",
       "20       Faanui      PF     82.02           clear sky -16.4833 -151.7500   \n",
       "22       Camopi      GF     80.85       broken clouds   3.1655  -52.3158   \n",
       "23       Rawson      AR     75.85       broken clouds -43.3002  -65.1023   \n",
       "\n",
       "   Hotel Name  \n",
       "1              \n",
       "8              \n",
       "9              \n",
       "15             \n",
       "16             \n",
       "17             \n",
       "19             \n",
       "20             \n",
       "22             \n",
       "23             "
      ],
      "text/html": "<div>\n<style scoped>\n    .dataframe tbody tr th:only-of-type {\n        vertical-align: middle;\n    }\n\n    .dataframe tbody tr th {\n        vertical-align: top;\n    }\n\n    .dataframe thead th {\n        text-align: right;\n    }\n</style>\n<table border=\"1\" class=\"dataframe\">\n  <thead>\n    <tr style=\"text-align: right;\">\n      <th></th>\n      <th>City</th>\n      <th>Country</th>\n      <th>Max Temp</th>\n      <th>Current Description</th>\n      <th>Lat</th>\n      <th>Lng</th>\n      <th>Hotel Name</th>\n    </tr>\n  </thead>\n  <tbody>\n    <tr>\n      <th>1</th>\n      <td>Baghdad</td>\n      <td>IQ</td>\n      <td>84.20</td>\n      <td>clear sky</td>\n      <td>33.3406</td>\n      <td>44.4009</td>\n      <td></td>\n    </tr>\n    <tr>\n      <th>8</th>\n      <td>Rosetta</td>\n      <td>EG</td>\n      <td>86.00</td>\n      <td>clear sky</td>\n      <td>31.4044</td>\n      <td>30.4164</td>\n      <td></td>\n    </tr>\n    <tr>\n      <th>9</th>\n      <td>Dondo</td>\n      <td>MZ</td>\n      <td>75.20</td>\n      <td>scattered clouds</td>\n      <td>-19.6094</td>\n      <td>34.7431</td>\n      <td></td>\n    </tr>\n    <tr>\n      <th>15</th>\n      <td>Rikitea</td>\n      <td>PF</td>\n      <td>76.96</td>\n      <td>clear sky</td>\n      <td>-23.1203</td>\n      <td>-134.9692</td>\n      <td></td>\n    </tr>\n    <tr>\n      <th>16</th>\n      <td>Grand Gaube</td>\n      <td>MU</td>\n      <td>77.00</td>\n      <td>light rain</td>\n      <td>-20.0064</td>\n      <td>57.6608</td>\n      <td></td>\n    </tr>\n    <tr>\n      <th>17</th>\n      <td>Namibe</td>\n      <td>AO</td>\n      <td>81.41</td>\n      <td>few clouds</td>\n      <td>-15.1961</td>\n      <td>12.1522</td>\n      <td></td>\n    </tr>\n    <tr>\n      <th>19</th>\n      <td>Mahwa</td>\n      <td>IN</td>\n      <td>87.60</td>\n      <td>clear sky</td>\n      <td>27.0471</td>\n      <td>76.9288</td>\n      <td></td>\n    </tr>\n    <tr>\n      <th>20</th>\n      <td>Faanui</td>\n      <td>PF</td>\n      <td>82.02</td>\n      <td>clear sky</td>\n      <td>-16.4833</td>\n      <td>-151.7500</td>\n      <td></td>\n    </tr>\n    <tr>\n      <th>22</th>\n      <td>Camopi</td>\n      <td>GF</td>\n      <td>80.85</td>\n      <td>broken clouds</td>\n      <td>3.1655</td>\n      <td>-52.3158</td>\n      <td></td>\n    </tr>\n    <tr>\n      <th>23</th>\n      <td>Rawson</td>\n      <td>AR</td>\n      <td>75.85</td>\n      <td>broken clouds</td>\n      <td>-43.3002</td>\n      <td>-65.1023</td>\n      <td></td>\n    </tr>\n  </tbody>\n</table>\n</div>"
     },
     "metadata": {},
     "execution_count": 7
    }
   ],
   "source": [
    "# 5a. Create DataFrame called hotel_df to store hotel names along with city, country, max temp, and coordinates.\n",
    "hotel_df = clean_df[[\"City\", \"Country\", \"Max Temp\", \"Current Description\", \"Lat\", \"Lng\"]].copy()\n",
    "\n",
    "# 5b. Create a new column \"Hotel Name\"\n",
    "hotel_df[\"Hotel Name\"] = \"\"\n",
    "hotel_df.head(10)"
   ]
  },
  {
   "cell_type": "code",
   "execution_count": 9,
   "metadata": {},
   "outputs": [
    {
     "output_type": "stream",
     "name": "stdout",
     "text": [
      "Hotel not found... skipping.\n",
      "Hotel not found... skipping.\n",
      "Hotel not found... skipping.\n",
      "Hotel not found... skipping.\n",
      "Hotel not found... skipping.\n",
      "Hotel not found... skipping.\n",
      "Hotel not found... skipping.\n",
      "Hotel not found... skipping.\n",
      "Hotel not found... skipping.\n",
      "Hotel not found... skipping.\n",
      "Hotel not found... skipping.\n",
      "Hotel not found... skipping.\n",
      "Hotel not found... skipping.\n",
      "Hotel not found... skipping.\n",
      "Hotel not found... skipping.\n",
      "Hotel not found... skipping.\n",
      "Hotel not found... skipping.\n"
     ]
    }
   ],
   "source": [
    "# 6a. Set parameters to search for hotels with 5000 meters.\n",
    "params = {\n",
    "    \"radius\": 5000,\n",
    "    \"type\": \"lodging\",\n",
    "    \"key\": g_key\n",
    "}\n",
    "\n",
    "# 6b. Iterate through the hotel DataFrame.\n",
    "for index, row in hotel_df.iterrows():\n",
    "\n",
    "    # 6c. Get latitude and longitude from DataFrame\n",
    "    lat = row[\"Lat\"]\n",
    "    lng = row[\"Lng\"]\n",
    "    params[\"location\"] = f\"{lat},{lng}\"\n",
    "\n",
    "    # 6d. Set up the base URL for the Google Directions API to get JSON data.       \n",
    "    base_url = \"https://maps.googleapis.com/maps/api/place/nearbysearch/json?parameters\"\n",
    "\n",
    "    # 6e. Make request and retrieve the JSON data from the search. \n",
    "    hotels = requests.get(base_url, params=params).json()\n",
    "    # 6f. Get the first hotel from the results and store the name, if a hotel isn't found skip the city.\n",
    "    try:\n",
    "        hotel_df.loc[index, \"Hotel Name\"] = hotels[\"results\"][0][\"name\"]\n",
    "    except (IndexError):\n",
    "        print(\"Hotel not found... skipping.\")\n",
    "        "
   ]
  },
  {
   "cell_type": "code",
   "execution_count": 12,
   "metadata": {},
   "outputs": [],
   "source": [
    "# 7. Drop the rows where there is no Hotel Name.\n",
    "clean_hotel_df = hotel_df.dropna()"
   ]
  },
  {
   "cell_type": "code",
   "execution_count": 14,
   "metadata": {},
   "outputs": [],
   "source": [
    "# 8a. Create the output File (CSV)\n",
    "output_data_file = \"WeatherPy_vacation.csv\"\n",
    "\n",
    "# 8b. Export the City_Data into a csv\n",
    "clean_hotel_df.to_csv(output_data_file, index_label=\"City_ID\")"
   ]
  },
  {
   "cell_type": "code",
   "execution_count": 15,
   "metadata": {},
   "outputs": [],
   "source": [
    "# 9. Using the template add city name, the country code, the weather description and maximum temperature for the city.\n",
    "info_box_template = \"\"\"\n",
    "<dl><dt>Hotel Name</dt><dd>{Hotel Name}</dd>\n",
    "<dt>City</dt><dd>{City}</dd>\n",
    "<dt>Country</dt><dd>{Country}</dd>\n",
    "<dt>Current Weather</dt><dd>{Current Description} and {Max Temp} °F</dd>\n",
    "</dl>\n",
    "\"\"\"\n",
    "\n",
    "# 10a. Get the data from each row and add it to the formatting template and store the data in a list.\n",
    "hotel_info = [info_box_template.format(**row) for index, row in clean_hotel_df.iterrows()]\n",
    "\n",
    "# 10b. Get the latitude and longitude from each row and store in a new DataFrame.\n",
    "locations = clean_hotel_df[[\"Lat\", \"Lng\"]]"
   ]
  },
  {
   "source": [
    "# 11a. Add a marker layer for each city to the map. \n",
    "\n",
    "# 11b. Display the figure\n"
   ],
   "cell_type": "markdown",
   "metadata": {}
  },
  {
   "cell_type": "code",
   "execution_count": 16,
   "metadata": {},
   "outputs": [],
   "source": [
    "locations = hotel_df[[\"Lat\", \"Lng\"]]\n",
    "max_temp = hotel_df[\"Max Temp\"]\n",
    "fig = gmaps.figure(center=(30.0, 31.0), zoom_level=1.5)\n",
    "marker_layer = gmaps.marker_layer(locations, info_box_content=hotel_info)\n",
    "fig.add_layer(marker_layer)"
   ]
  },
  {
   "cell_type": "code",
   "execution_count": 17,
   "metadata": {},
   "outputs": [
    {
     "output_type": "display_data",
     "data": {
      "text/plain": "Figure(layout=FigureLayout(height='420px'))",
      "application/vnd.jupyter.widget-view+json": {
       "version_major": 2,
       "version_minor": 0,
       "model_id": "f5721afe9d144fe5b6026c1152fddee1"
      }
     },
     "metadata": {}
    }
   ],
   "source": [
    "fig"
   ]
  },
  {
   "cell_type": "code",
   "execution_count": null,
   "metadata": {},
   "outputs": [],
   "source": []
  }
 ],
 "metadata": {
  "kernelspec": {
   "name": "pythondata",
   "display_name": "Python 3.7.9 64-bit ('PythonData': conda)"
  },
  "language_info": {
   "codemirror_mode": {
    "name": "ipython",
    "version": 3
   },
   "file_extension": ".py",
   "mimetype": "text/x-python",
   "name": "python",
   "nbconvert_exporter": "python",
   "pygments_lexer": "ipython3",
   "version": "3.7.9-final"
  },
  "latex_envs": {
   "LaTeX_envs_menu_present": true,
   "autoclose": false,
   "autocomplete": true,
   "bibliofile": "biblio.bib",
   "cite_by": "apalike",
   "current_citInitial": 1,
   "eqLabelWithNumbers": true,
   "eqNumInitial": 1,
   "hotkeys": {
    "equation": "Ctrl-E",
    "itemize": "Ctrl-I"
   },
   "labels_anchors": false,
   "latex_user_defs": false,
   "report_style_numbering": false,
   "user_envs_cfg": false
  }
 },
 "nbformat": 4,
 "nbformat_minor": 2
}